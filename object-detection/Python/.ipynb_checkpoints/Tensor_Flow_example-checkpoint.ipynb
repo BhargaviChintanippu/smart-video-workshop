{
 "cells": [
  {
   "cell_type": "markdown",
   "metadata": {},
   "source": [
    "<div style=\"font-size: 19px\">\n",
    "    \n",
    "## Converting a TensorFlow* Model in Linux*\n",
    "\n",
    "### Pre-Requisites:\n",
    "\n",
    "#### Change ownership of the directory to the current user\n",
    "\n",
    "   Note: replace the usernames below with your user account name\n"
   ]
  },
  {
   "cell_type": "code",
   "execution_count": 1,
   "metadata": {},
   "outputs": [],
   "source": [
    "!echo \"intel123\" | sudo -S chown intel:intel -R /opt/intel >/dev/null 2>&1"
   ]
  },
  {
   "cell_type": "markdown",
   "metadata": {},
   "source": [
    "<div style=\"font-size: 19px\">\n",
    "    \n",
    "#### Download Model(s) from TensorFlow* -slim library\n",
    "\n",
    "There are a number of pre-trained public models in the TensorFlow*-slim repository. The models are distributed as Python scripts and checkpoint files. First of all download repository with models. Note: This is done in home directory(~)"
   ]
  },
  {
   "cell_type": "code",
   "execution_count": null,
   "metadata": {},
   "outputs": [
    {
     "name": "stdout",
     "output_type": "stream",
     "text": [
      "Cloning into 'models'...\n",
      "remote: Enumerating objects: 19, done.\u001b[K\n",
      "remote: Counting objects: 100% (19/19), done.\u001b[K\n",
      "remote: Compressing objects: 100% (17/17), done.\u001b[K\n",
      "Receiving objects:   5% (1375/25352), 532.00 KiB | 20.00 KiB/s   \r"
     ]
    }
   ],
   "source": [
    "! cd && git clone https://github.com/tensorflow/models/ && cd models/research/slim"
   ]
  },
  {
   "cell_type": "markdown",
   "metadata": {},
   "source": [
    "<div style=\"font-size: 19px\">\n",
    "    \n",
    "#### Export Inference Graph and download checkpoint file\n",
    "\n",
    "Export inference graph for one of the available models using the following command (Inception V1 in this example):"
   ]
  },
  {
   "cell_type": "code",
   "execution_count": null,
   "metadata": {},
   "outputs": [],
   "source": [
    "!python3 /home/intel/models/research/slim/export_inference_graph.py --alsologtostderr --model_name=inception_v1 --output_file=/tmp/inception_v1_inf_graph.pb"
   ]
  },
  {
   "cell_type": "markdown",
   "metadata": {},
   "source": [
    "<div style=\"font-size: 19px\">\n",
    "    \n",
    "The script creates inference graph file with name “inception_v1_inf_graph.pb” in the /tmp direcory.\n",
    "\n",
    "#### Download archive with checkpoint file (Inception V1 in this example):"
   ]
  },
  {
   "cell_type": "code",
   "execution_count": null,
   "metadata": {
    "scrolled": true
   },
   "outputs": [],
   "source": [
    "%%writefile run.sh\n",
    "export CHECKPOINT_DIR=/tmp/checkpoints\n",
    "\n",
    "mkdir $CHECKPOINT_DIR\n",
    "\n",
    "wget http://download.tensorflow.org/models/inception_v1_2016_08_28.tar.gz\n",
    "\n",
    "tar -xvf inception_v1_2016_08_28.tar.gz\n",
    "\n",
    "mv inception_v1.ckpt $CHECKPOINT_DIR\n",
    "\n",
    "rm inception_v1_2016_08_28.tar.gz"
   ]
  },
  {
   "cell_type": "code",
   "execution_count": null,
   "metadata": {},
   "outputs": [],
   "source": [
    "%%bash\n",
    "sh run.sh"
   ]
  },
  {
   "cell_type": "markdown",
   "metadata": {},
   "source": [
    "<div style=\"font-size: 19px\">\n",
    "    \n",
    "#### Freeze the model\n",
    "\n",
    "The last step is to freeze the graph. To do this you need to know the output node of the model you are planning to freeze. This information is found by running the summarize_graph.\n",
    "\n",
    "#### Summarize Graph\n",
    "\n",
    "Go to ~/models/research/slim/ directory and run summarize_graph.py script."
   ]
  },
  {
   "cell_type": "code",
   "execution_count": 1,
   "metadata": {},
   "outputs": [
    {
     "name": "stdout",
     "output_type": "stream",
     "text": [
      "1 input(s) detected:\r\n",
      "Name: input, type: float32, shape: (-1,224,224,3)\r\n",
      "1 output(s) detected:\r\n",
      "InceptionV1/Logits/Predictions/Reshape_1\r\n"
     ]
    }
   ],
   "source": [
    "! cd ~/models/research/slim/ && python3 /opt/intel/openvino/deployment_tools/model_optimizer/mo/utils/summarize_graph.py --input_model=/tmp/inception_v1_inf_graph.pb\n"
   ]
  },
  {
   "cell_type": "markdown",
   "metadata": {},
   "source": [
    "<div style=\"font-size: 19px\">\n",
    "    \n",
    "The output layer/node name should be in the last line of text on the console and should look like:\n",
    "\n",
    "1 input(s) detected: Name: input, type: float32, shape: (-1,224,224,3) 1 output(s) detected: InceptionV1/Logits/Predictions/Reshape_1Freeze Graph\n",
    "\n",
    "#### Freeze the graph for Intel® Distribution of OpenVINO™ toolkit\n",
    "\n",
    "The script generates inception_v1_frozen.pb file with the frozen model in the directory you are currently in."
   ]
  },
  {
   "cell_type": "code",
   "execution_count": null,
   "metadata": {},
   "outputs": [],
   "source": [
    "!python3 /usr/local/lib/python3.5/dist-packages/tensorflow/python/tools/freeze_graph.py --input_graph /tmp/inception_v1_inf_graph.pb --input_binary --input_checkpoint /tmp/checkpoints/inception_v1.ckpt --output_node_names InceptionV1/Logits/Predictions/Reshape_1 --output_graph inception_v1_frozen.pb"
   ]
  },
  {
   "cell_type": "markdown",
   "metadata": {},
   "source": [
    "<div style=\"font-size: 19px\">\n",
    "    \n",
    "You might get warning message \"Your CPU supports instructions that this TensorFlow binary was not compiled to use: AVX2 FMA\" while executing above command, ignore that.\n",
    "### Convert Frozen Tensorflow* model to IR using Model Optimizer\n",
    "\n",
    "Assuming you are in the ~/models/research/slim/ directory"
   ]
  },
  {
   "cell_type": "code",
   "execution_count": null,
   "metadata": {},
   "outputs": [],
   "source": [
    "! python3 /opt/intel/openvino/deployment_tools/model_optimizer/mo_tf.py --input_model inception_v1_frozen.pb --input_shape [1,224,224,3] --mean_values [1024,1024,1024] --scale_values [128,128,128]"
   ]
  },
  {
   "cell_type": "markdown",
   "metadata": {},
   "source": [
    "<div style=\"font-size: 19px\">\n",
    "    \n",
    "This should produce “inception_v1_frozen.xml” and “inception_v1_frozen.bin” file. The xml file contains the topology information of the model and the bin file contains the model’s weights and biases. These two files are expected when using the inference engine so make note of the path.\n",
    "### Run Classification Sample\n",
    "\n",
    "The classification sample will showcase the Intel® Distribution of OpenVINO™ toolkit inference engine using TensorFlow model Inception_v1_frozen IR files (.xml & .bin) and an input image of a car to classify. The classification collateral is defined as the input image car_1.bmp, the Inception_v1_frozen IR files (.xml & .bin), and the labels file inception_v1_frozen.labels. Create a new directory that will hold the classification sample app and all needed components to run the classification sample Note: The following steps should be followed and are assuming you are following the preceding steps. You should be in the home directory."
   ]
  },
  {
   "cell_type": "code",
   "execution_count": null,
   "metadata": {},
   "outputs": [],
   "source": [
    "!/opt/intel/openvino/bin/setupvars.sh"
   ]
  },
  {
   "cell_type": "markdown",
   "metadata": {},
   "source": [
    "<div style=\"font-size: 19px\">\n",
    "\n",
    "Place Classification App collateral in current local directory:"
   ]
  },
  {
   "cell_type": "code",
   "execution_count": null,
   "metadata": {},
   "outputs": [],
   "source": [
    "!echo \"intel123\" | sudo -S cp /opt/intel/openvino/deployment_tools/demo/car_1.bmp  . >/dev/null 2>&1"
   ]
  },
  {
   "cell_type": "code",
   "execution_count": null,
   "metadata": {},
   "outputs": [],
   "source": [
    "!echo \"intel123\" | sudo -S cp /opt/intel/openvino/deployment_tools/demo/squeezenet1.1.labels ./inception_v1_frozen.labels >/dev/null 2>&1"
   ]
  },
  {
   "cell_type": "markdown",
   "metadata": {},
   "source": [
    "<div style=\"font-size: 19px\">\n",
    "    \n",
    "#### Run Application\n",
    "\n",
    "Note: To see all the flags that the sample takes as input run ./classification_sample -h"
   ]
  },
  {
   "cell_type": "code",
   "execution_count": null,
   "metadata": {
    "scrolled": true
   },
   "outputs": [],
   "source": [
    "! python3 classification_sample.py -i car_1.bmp -m inception_v1_frozen.xml"
   ]
  },
  {
   "cell_type": "markdown",
   "metadata": {},
   "source": [
    "<div style=\"font-size: 19px\">\n",
    "\n",
    "Expected Output:"
   ]
  },
  {
   "cell_type": "markdown",
   "metadata": {},
   "source": [
    "<div style=\"font-size: 16px\">\n",
    "    \n",
    "[ INFO ] InferenceEngine:<br> \n",
    "API version ............ 1.6<br>\n",
    "Build .................. custom_releases/2019/R1_c9b66a26e4d65bb986bb740e73f58c6e9e84c7c2<br>\n",
    "[ INFO ] Parsing input parameters<br>\n",
    "[ INFO ] Files were added: 1<br>\n",
    "[ INFO ]     car_1.bmp<br>\n",
    "[ INFO ] Loading plugin\n",
    "<br>\n",
    "\tAPI version ............ 1.6<br>\n",
    "\tBuild .................. 22443<br>\n",
    "\tDescription ....... MKLDNNPlugin<br>\n",
    "[ INFO ] Loading network files:<br>\n",
    "\tinception_v1_frozen.xml<br>\n",
    "\tinception_v1_frozen.bin<br>\n",
    "[ INFO ] Preparing input blobs<br>\n",
    "[ WARNING ] Image is resized from (749, 637) to (224, 224)<br>\n",
    "[ INFO ] Batch size is 1<br>\n",
    "[ INFO ] Preparing output blobs<br>\n",
    "[ INFO ] Loading model to the plugin<br>\n",
    "[ INFO ] Starting inference (1 iterations)<br>\n",
    "[ INFO ] Processing output blobs<br>\n",
    "<br>\n",
    "Top 10 results:\n",
    "<br>\n",
    "Image car_1.bmp\n",
    "<br>\n",
    "classid probability label<br>\n",
    "------- ----------- -----<br>\n",
    "829     0.6013383   streetcar, tram, tramcar, trolley, trolley car<br>\n",
    "905     0.1193138   window shade<br>\n",
    "557     0.0587131   flagpole, flagstaff<br>\n",
    "600     0.0273736   hook, claw<br>\n",
    "812     0.0096623   space shuttle<br>\n",
    "633     0.0080025   loupe, jeweler's loupe<br>\n",
    "795     0.0052693   ski<br>\n",
    "791     0.0045856   shopping cart<br>\n",
    "652     0.0042737   military uniform<br>\n",
    "689     0.0042265   overskirt<br>\n",
    "<br>\n",
    "\n",
    "total inference time: 22.1188385<br>\n",
    "Average running time of one iteration: 22.1188385 ms<br>\n",
    "<br>\n",
    "Throughput: 45.2103305 FPS<br>\n",
    "\n",
    "[ INFO ] Execution successful<br>"
   ]
  },
  {
   "cell_type": "code",
   "execution_count": null,
   "metadata": {},
   "outputs": [],
   "source": []
  }
 ],
 "metadata": {
  "kernelspec": {
   "display_name": "Python 3",
   "language": "python",
   "name": "python3"
  },
  "language_info": {
   "codemirror_mode": {
    "name": "ipython",
    "version": 3
   },
   "file_extension": ".py",
   "mimetype": "text/x-python",
   "name": "python",
   "nbconvert_exporter": "python",
   "pygments_lexer": "ipython3",
   "version": "3.5.2"
  }
 },
 "nbformat": 4,
 "nbformat_minor": 2
}
